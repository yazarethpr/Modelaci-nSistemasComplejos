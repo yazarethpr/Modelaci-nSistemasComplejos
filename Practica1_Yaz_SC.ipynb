{
 "cells": [
  {
   "cell_type": "markdown",
   "id": "d460bd1f",
   "metadata": {},
   "source": [
    "# Práctica 1.\n",
    "> ### Yazareth Peña Rodríguez\n",
    "Modelacion Computacional de Sistemas Complejos"
   ]
  },
  {
   "cell_type": "markdown",
   "id": "82a1e15b",
   "metadata": {},
   "source": [
    "## Ejercicios:\n",
    "\n",
    "<ol>\n",
    "    <li> Basado en los códigos anteriores, escriba un programa para implementar em método de integración númerica de Euler para $N$ Dimensiones. \n",
    "    </li>\n",
    "\n"
   ]
  },
  {
   "cell_type": "markdown",
   "id": "de6b612a",
   "metadata": {},
   "source": [
    "<b> Solución: </b> \n",
    "Usando el código del notebook 'Sistemas Dinámicos Lineales' de la clase, partí de la función Euler2D, de modo que pudiera impletarla para N dimensiones. Aquí el truco fue hacer una lista de listas en donde se pueda guardar "
   ]
  },
  {
   "cell_type": "code",
   "execution_count": 4,
   "id": "8aebdf26",
   "metadata": {},
   "outputs": [],
   "source": [
    "''' *** MÉTODO DE INTEGRACIÓN NUMÉRICA DE EULER PARA N DIMENSIONES***\n",
    "    \n",
    "    f : función a evaluar, f(x,t) = dx/dt. En este caso, x es N-dimensional.\n",
    "    x0 : es un vector de ND (x00,x01, x02,...,x0n)\n",
    "    t0 : tiempo inicial.\n",
    "    tf : tiempo final.\n",
    "    dt : el tamaño del paso del tiempo.\n",
    "\n",
    "'''\n",
    "\n",
    "def EulerND(f,x0,t0,tf,dt):  \n",
    "    \n",
    "    X = [] #Aquí guardamos la solución, coordenada a coordenada. \n",
    "    T = [] #Aquí guardamos el tiempo correspondiente a las soluciones.\n",
    "    n = len(x0) #Si conocemos la longitud de x0, conocemos la dimensión. \n",
    "    \n",
    "    for i in range (n): #Usamos un ciclo for para anexar a X las cond. iniciales. a cada coordenada.\n",
    "        X.append([])  \n",
    "        X[i].append(x0[i]) \n",
    "        \n",
    "    T.append(t0) #Agregamos el tiempo inicial.\n",
    "\n",
    "    t=t0   \n",
    "    x=x0   ## recordemos que x es un vector n-dimensional.\n",
    "\n",
    "    while (t<tf): \n",
    "\n",
    "        x = x + f(x)*dt  \n",
    "        t = t + dt\n",
    "        \n",
    "        for j in range(n): #Actualizamos la lista X con las soluciones encontradas\n",
    "            X[j].append(x[j])\n",
    "            \n",
    "        T.append(t)\n",
    "        \n",
    "    return X ,T"
   ]
  },
  {
   "cell_type": "markdown",
   "id": "9cb63d2d",
   "metadata": {},
   "source": [
    "\n",
    "<br>\n",
    "<li>\n",
    "    Dado el siguiente siguiente sistema lineal de ecuaciones diferenciales ordinarias (2D):\n",
    "    \n",
    "<br>    \n",
    "    \n",
    "$\n",
    "\\dot{\\vec{x}} = \\left[\\begin{array}{c} \\dot{x_1} \\\\ \\dot{x_2} \\end{array}\\right]= \\left[\\begin{array}{c} \\alpha x_1 + \\beta x_2 \\\\  \\gamma x_1 + \\delta x_2 \\end{array}\\right] = \\left[\\begin{array}{cc} \\alpha  & \\beta  \\\\  \\gamma & \\delta \\end{array}\\right] \\left[\\begin{array}{c} x_1 \\\\ x_2 \\end{array}\\right],\n",
    "$\n",
    "<br>  \n",
    "    <ol>\n",
    "Apoyandose en la libreria *numpy*, escriba un programa que calcule computancionalmente los eigenvectores asociados a valores arbitrarios de $\\alpha,\\beta,\\gamma,\\delta$, y (apoyandose en lo trabajado en clase) grafique para cada una el espacio fase y cuatro curvas solución (*i.e.* cuatro condiciones inciciales diferentes) alrededor del punto de equilibrio $(0,0)$ que ejemplifiquen bien las características de dicho punto. Las curvas solución deberán ser obtenidas numéricamente usando el método de Euler.                \n"
   ]
  },
  {
   "cell_type": "code",
   "execution_count": 5,
   "id": "43d1bfc4",
   "metadata": {},
   "outputs": [],
   "source": [
    "import matplotlib.pyplot as plt\n",
    "import numpy as np\n",
    "from numpy.linalg import eig  "
   ]
  },
  {
   "cell_type": "code",
   "execution_count": 9,
   "id": "9bcb9da8",
   "metadata": {},
   "outputs": [],
   "source": [
    "'''\n",
    "Creamos una clase que nos permita calcular sistemas de ecuaciones dif. lineales. de 2D.\n",
    "-Inicializamos la función pidiéndole al usuario los valores para cada entrada de la matriz \n",
    "de la forma: A = np.array([[alpha, beta], [gamma, delta]]).\n",
    "-La función matriz(self, x) nos arroja la ecuación diferencial como combinación lineal en un\n",
    "vector de dos entradas: y.\n",
    "-La función eigenvalores(self) nos arroja los eigenvalores y los eigenvalores de la matriz A\n",
    "\n",
    "'''\n",
    "class SistEcLin2D:\n",
    "    \n",
    "    def __init__(self, alpha, beta, gamma, delta):\n",
    "        self.alpha = alpha\n",
    "        self.beta = beta\n",
    "        self.gamma = gamma\n",
    "        self.delta = delta\n",
    "    \n",
    "    def matriz(self, x): #x debe ser un vector de dos entradas.\n",
    "        y = np.array(np.zeros(2)) \n",
    "        y[0] = self.alpha*x[0] + self.beta*x[1]\n",
    "        y[1] = self.gamma*x[0] + self.delta*x[1]\n",
    "        return y\n",
    "    \n",
    "    def eigenvalores(self):\n",
    "        A = np.array([[self.alpha, self.beta], \n",
    "              [self.gamma, self.delta]])\n",
    "        eigvalA,eigvecA =eig(A)\n",
    "        return eigvalA, eigvecA"
   ]
  },
  {
   "cell_type": "markdown",
   "id": "89673a3b",
   "metadata": {},
   "source": [
    "<li>\n",
    "    Para ver si funciona usamos la siguiente matriz:\n",
    "<br>    \n",
    "    \n",
    "$\n",
    "\\dot{\\vec{x}} = \\left[\\begin{array}{c} \\dot{x_1} \\\\ \\dot{x_2} \\end{array}\\right]= \\left[\\begin{array}{c} \\alpha x_1 + \\beta x_2 \\\\  \\gamma x_1 + \\delta x_2 \\end{array}\\right] = \\left[\\begin{array}{cc} 0  & 1  \\\\  -1 & 0 \\end{array}\\right] \\left[\\begin{array}{c} x_1 \\\\ x_2 \\end{array}\\right],\n",
    "$\n",
    "<br> "
   ]
  },
  {
   "cell_type": "code",
   "execution_count": 14,
   "id": "5f360da6",
   "metadata": {},
   "outputs": [],
   "source": [
    "g = SistEcLin2D(0,1,-1,0)"
   ]
  },
  {
   "cell_type": "code",
   "execution_count": 15,
   "id": "7891acd7",
   "metadata": {},
   "outputs": [
    {
     "data": {
      "text/plain": [
       "(array([0.+1.j, 0.-1.j]),\n",
       " array([[0.70710678+0.j        , 0.70710678-0.j        ],\n",
       "        [0.        +0.70710678j, 0.        -0.70710678j]]))"
      ]
     },
     "execution_count": 15,
     "metadata": {},
     "output_type": "execute_result"
    }
   ],
   "source": [
    "g.eigenvalores() "
   ]
  },
  {
   "cell_type": "code",
   "execution_count": 21,
   "id": "ffeea493",
   "metadata": {},
   "outputs": [
    {
     "ename": "TypeError",
     "evalue": "matriz() missing 1 required positional argument: 'x'",
     "output_type": "error",
     "traceback": [
      "\u001b[0;31m---------------------------------------------------------------------------\u001b[0m",
      "\u001b[0;31mTypeError\u001b[0m                                 Traceback (most recent call last)",
      "\u001b[0;32m<ipython-input-21-86404870be00>\u001b[0m in \u001b[0;36m<module>\u001b[0;34m\u001b[0m\n\u001b[0;32m----> 1\u001b[0;31m \u001b[0mg\u001b[0m\u001b[0;34m.\u001b[0m\u001b[0mmatriz\u001b[0m\u001b[0;34m(\u001b[0m\u001b[0;34m)\u001b[0m\u001b[0;34m\u001b[0m\u001b[0;34m\u001b[0m\u001b[0m\n\u001b[0m",
      "\u001b[0;31mTypeError\u001b[0m: matriz() missing 1 required positional argument: 'x'"
     ]
    }
   ],
   "source": [
    "g.matriz()"
   ]
  },
  {
   "cell_type": "markdown",
   "id": "7b90352f",
   "metadata": {},
   "source": [
    "\n",
    "<li>\n",
    "Calcule los puntos de equilibrio y muestre computacionalmente el plano fase (con su respectivo campo de pendientes) y las curvas solución de los siguientes sistemas:\n",
    "<br> \n",
    "<br>  \n",
    "        <ol>\n",
    "            <li>Oscilador Armonico Simple:<br> \n",
    "                $\\dot{x}= y $ <br> $\\dot{y}= - k x$; $\\;\\;$  para diferentes valores de $k$\n",
    "            </li>\n",
    "<br>              \n",
    "            <li>Oscilador Armonico Amortiguado:<br> \n",
    "                $\\dot{x}= y $ <br> $\\dot{y}= - k x - \\beta y$; $\\;\\;$  para diferentes valores de $k$ y $\\beta$ \n",
    "            </li>\n",
    "<br>            \n",
    "            <li><br> \n",
    "                $\\dot{x}=3x+y$ <br>  $\\dot{y}=x-y$\n",
    "            </li>   \n",
    "<br>            \n",
    " $\\dot{\\vec{x}}(t) = \\mathbb{A} \\vec{x}(t) $  ; $\\;\\;$ donde $\\mathbb{A} $    \n",
    "<br>              \n",
    "            <li><br> \n",
    "$\\mathbb{A}\n",
    "=\n",
    "\\begin{pmatrix} \n",
    "1 & 1 \\\\\n",
    "4  & -2\n",
    "\\end{pmatrix}\n",
    "$ \n",
    "            </li>   \n",
    "<br>              \n",
    "            <li><br> \n",
    "$\\mathbb{A}\n",
    "=\n",
    "\\begin{pmatrix} \n",
    "a & 0 \\\\\n",
    "0  & -1\n",
    "\\end{pmatrix}\n",
    "$ ; $\\;\\;$  para diferentes valores de $a$\n",
    "            </li>   \n",
    "<br>            \n",
    "        </ol>\n",
    "   </li>    \n",
    "<br>    \n",
    "\n",
    "\n",
    "\n",
    "</li>    \n",
    "</ol>"
   ]
  },
  {
   "cell_type": "markdown",
   "id": "99139cd5",
   "metadata": {},
   "source": [
    "\n",
    " **Ejercicio extra:** Implemente el método de Runge-Kutta de orden 4 de manera general"
   ]
  },
  {
   "cell_type": "code",
   "execution_count": null,
   "id": "50ae33c7",
   "metadata": {},
   "outputs": [],
   "source": []
  },
  {
   "cell_type": "code",
   "execution_count": null,
   "id": "eb4a871b",
   "metadata": {},
   "outputs": [],
   "source": []
  }
 ],
 "metadata": {
  "kernelspec": {
   "display_name": "Python 3.8.5 64-bit",
   "language": "python",
   "name": "python38564bit170d27ac512c4c839b8ebe18d19d6eed"
  },
  "language_info": {
   "codemirror_mode": {
    "name": "ipython",
    "version": 3
   },
   "file_extension": ".py",
   "mimetype": "text/x-python",
   "name": "python",
   "nbconvert_exporter": "python",
   "pygments_lexer": "ipython3",
   "version": "3.8.5"
  }
 },
 "nbformat": 4,
 "nbformat_minor": 5
}
